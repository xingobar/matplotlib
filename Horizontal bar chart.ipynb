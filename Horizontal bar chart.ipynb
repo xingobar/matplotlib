{
 "cells": [
  {
   "cell_type": "code",
   "execution_count": 4,
   "metadata": {
    "collapsed": false
   },
   "outputs": [],
   "source": [
    "import pandas as pd\n",
    "import numpy as np\n",
    "import matplotlib.pyplot as plt\n",
    "%matplotlib inline"
   ]
  },
  {
   "cell_type": "code",
   "execution_count": 60,
   "metadata": {
    "collapsed": false
   },
   "outputs": [
    {
     "data": {
      "image/png": "[encoded data removed]",
      "text/plain": [
       "<matplotlib.figure.Figure at 0x11a323350>"
      ]
     },
     "metadata": {},
     "output_type": "display_data"
    }
   ],
   "source": [
    "labels = ['Males', 'Females', 'Persons'] \n",
    "data = [6.3, 7.2, 6.8]\n",
    "width = 0.8\n",
    "yTickPos = np.arange(len(data))\n",
    "yBarPos = yTickPos - (width/2.0)\n",
    "fig, ax = plt.subplots(figsize=(8, 3.5)) \n",
    "ax.barh(yBarPos,data,width,color='wheat')\n",
    "ax.set_yticks(ticks=yTickPos)\n",
    "ax.set_yticklabels(labels)\n",
    "ax.set_ylim((min(yTickPos)-0.6,max(yTickPos)+0.6))\n",
    "ax.xaxis.grid(True)\n",
    "ax.set_ylabel('Gender')\n",
    "ax.set_xlabel('Rate (percent')\n",
    "fig.suptitle('Horizontal bar chart')\n",
    "fig.tight_layout(pad=2)"
   ]
  },
  {
   "cell_type": "code",
   "execution_count": null,
   "metadata": {
    "collapsed": false
   },
   "outputs": [],
   "source": []
  },
  {
   "cell_type": "code",
   "execution_count": null,
   "metadata": {
    "collapsed": true
   },
   "outputs": [],
   "source": []
  }
 ],
 "metadata": {
  "kernelspec": {
   "display_name": "Python [Root]",
   "language": "python",
   "name": "Python [Root]"
  },
  "language_info": {
   "codemirror_mode": {
    "name": "ipython",
    "version": 2
   },
   "file_extension": ".py",
   "mimetype": "text/x-python",
   "name": "python",
   "nbconvert_exporter": "python",
   "pygments_lexer": "ipython2",
   "version": "2.7.12"
  }
 },
 "nbformat": 4,
 "nbformat_minor": 0
}
