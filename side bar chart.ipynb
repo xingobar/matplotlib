{
 "cells": [
  {
   "cell_type": "code",
   "execution_count": 4,
   "metadata": {
    "collapsed": false
   },
   "outputs": [],
   "source": [
    "import pandas as pd\n",
    "import numpy as np\n",
    "import matplotlib.pyplot as plt\n",
    "%matplotlib inline"
   ]
  },
  {
   "cell_type": "code",
   "execution_count": null,
   "metadata": {
    "collapsed": true
   },
   "outputs": [],
   "source": []
  },
  {
   "cell_type": "code",
   "execution_count": 31,
   "metadata": {
    "collapsed": false
   },
   "outputs": [
    {
     "data": {
      "image/png": "[encoded data removed]",
      "text/plain": [
       "<matplotlib.figure.Figure at 0x116c65c50>"
      ]
     },
     "metadata": {},
     "output_type": "display_data"
    }
   ],
   "source": [
    "before = np.array([10, 11, 9, 12])\n",
    "after = np.array([11, 12, 8, 17])\n",
    "labels  = ['Group' + x for x in list('ABCD')]\n",
    "fig,ax = plt.subplots(figsize=(8,4))\n",
    "width = 0.4\n",
    "xlocs = np.arange(len(before))\n",
    "ax.bar(xlocs-width,before,width,color='wheat',label='Male')\n",
    "ax.bar(xlocs,after,width,color='#8B7E66',label='Female')\n",
    "ax.set_xticks(ticks = np.arange(len(before)))\n",
    "ax.set_xticklabels(labels)\n",
    "fig.suptitle('The Side Bar Chart')\n",
    "ax.yaxis.grid(True)\n",
    "ax.legend(loc='best')\n",
    "ax.set_ylabel('Mean Group Result')\n",
    "fig.tight_layout(pad=1)\n"
   ]
  },
  {
   "cell_type": "code",
   "execution_count": null,
   "metadata": {
    "collapsed": true
   },
   "outputs": [],
   "source": []
  }
 ],
 "metadata": {
  "kernelspec": {
   "display_name": "Python [Root]",
   "language": "python",
   "name": "Python [Root]"
  },
  "language_info": {
   "codemirror_mode": {
    "name": "ipython",
    "version": 2
   },
   "file_extension": ".py",
   "mimetype": "text/x-python",
   "name": "python",
   "nbconvert_exporter": "python",
   "pygments_lexer": "ipython2",
   "version": "2.7.12"
  }
 },
 "nbformat": 4,
 "nbformat_minor": 0
}
