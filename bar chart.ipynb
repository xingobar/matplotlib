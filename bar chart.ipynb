{
 "cells": [
  {
   "cell_type": "code",
   "execution_count": 4,
   "metadata": {
    "collapsed": false
   },
   "outputs": [],
   "source": [
    "import pandas as pd\n",
    "import numpy as np\n",
    "import matplotlib.pyplot as plt\n",
    "%matplotlib inline"
   ]
  },
  {
   "cell_type": "code",
   "execution_count": null,
   "metadata": {
    "collapsed": true
   },
   "outputs": [],
   "source": []
  },
  {
   "cell_type": "code",
   "execution_count": 28,
   "metadata": {
    "collapsed": false
   },
   "outputs": [
    {
     "data": {
      "image/png": "[encoded data removed]",
      "text/plain": [
       "<matplotlib.figure.Figure at 0x11978f690>"
      ]
     },
     "metadata": {},
     "output_type": "display_data"
    }
   ],
   "source": [
    "labels = list('ABCDE')\n",
    "data = np.array(range(len(labels))  + np.random.randn(len(labels)))\n",
    "fig,ax = plt.subplots(figsize=(8,4))\n",
    "width = 0.8\n",
    "tickLocation = np.arange(len(labels))\n",
    "recLocation = tickLocation - (width /2.0)\n",
    "ax.bar(recLocation,data,width,color='wheat',edgecolor='#8B7E66',linewidth=4.0)\n",
    "ax.set_xticks(tickLocation)\n",
    "ax.set_xticklabels(labels)\n",
    "ax.set_yticks(range(len(labels))[1:])\n",
    "ax.set_ylim((0,len(labels)))\n",
    "ax.yaxis.grid(True)\n",
    "fig.suptitle('Simple Bar Chart')\n",
    "fig.tight_layout(pad=2)"
   ]
  },
  {
   "cell_type": "code",
   "execution_count": null,
   "metadata": {
    "collapsed": true
   },
   "outputs": [],
   "source": []
  }
 ],
 "metadata": {
  "kernelspec": {
   "display_name": "Python [Root]",
   "language": "python",
   "name": "Python [Root]"
  },
  "language_info": {
   "codemirror_mode": {
    "name": "ipython",
    "version": 2
   },
   "file_extension": ".py",
   "mimetype": "text/x-python",
   "name": "python",
   "nbconvert_exporter": "python",
   "pygments_lexer": "ipython2",
   "version": "2.7.12"
  }
 },
 "nbformat": 4,
 "nbformat_minor": 0
}
