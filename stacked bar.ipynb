{
 "cells": [
  {
   "cell_type": "code",
   "execution_count": 4,
   "metadata": {
    "collapsed": false
   },
   "outputs": [],
   "source": [
    "import pandas as pd\n",
    "import numpy as np\n",
    "import matplotlib.pyplot as plt\n",
    "%matplotlib inline"
   ]
  },
  {
   "cell_type": "code",
   "execution_count": 38,
   "metadata": {
    "collapsed": false
   },
   "outputs": [
    {
     "data": {
      "image/png": "[encoded data removed]",
      "text/plain": [
       "<matplotlib.figure.Figure at 0x11a449ed0>"
      ]
     },
     "metadata": {},
     "output_type": "display_data"
    }
   ],
   "source": [
    "alphas = np.array( [23, 44, 52, 32] )\n",
    "betas = np.array( [38, 49, 32, 61] )\n",
    "labels = ['Sydney', 'Melb', 'Canb', 'Bris']\n",
    "fig,ax = plt.subplots(figsize=(8,4))\n",
    "width = 0.8\n",
    "xlocations = np.array(range(len(labels) + 2))\n",
    "adjloc = xlocations[1:-1] - width/2.0\n",
    "ax.bar(adjloc,alphas,width,color='tan',label='alpha')\n",
    "ax.bar(adjloc,betas,width,color='wheat',label='betas',bottom=alphas)\n",
    "ax.set_xticks(ticks = xlocations[1:-1])\n",
    "ax.set_xticklabels(labels)\n",
    "ax.yaxis.grid(True)\n",
    "ax.legend(loc='best',prop={'size':'small'})\n",
    "fig.suptitle('Stacked Bar')\n",
    "fig.tight_layout(pad=2)"
   ]
  },
  {
   "cell_type": "code",
   "execution_count": null,
   "metadata": {
    "collapsed": false
   },
   "outputs": [],
   "source": []
  },
  {
   "cell_type": "code",
   "execution_count": null,
   "metadata": {
    "collapsed": true
   },
   "outputs": [],
   "source": []
  }
 ],
 "metadata": {
  "kernelspec": {
   "display_name": "Python [Root]",
   "language": "python",
   "name": "Python [Root]"
  },
  "language_info": {
   "codemirror_mode": {
    "name": "ipython",
    "version": 2
   },
   "file_extension": ".py",
   "mimetype": "text/x-python",
   "name": "python",
   "nbconvert_exporter": "python",
   "pygments_lexer": "ipython2",
   "version": "2.7.12"
  }
 },
 "nbformat": 4,
 "nbformat_minor": 0
}
